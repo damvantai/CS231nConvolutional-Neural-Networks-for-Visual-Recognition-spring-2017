{
 "cells": [
  {
   "cell_type": "code",
   "execution_count": 1,
   "metadata": {
    "scrolled": true
   },
   "outputs": [
    {
     "name": "stdout",
     "output_type": "stream",
     "text": [
      "run the following from the cs231n directory and try again:\n",
      "python setup.py build_ext --inplace\n",
      "You may also need to restart your iPython kernel\n"
     ]
    }
   ],
   "source": [
    "# As usual, a bit of setup\n",
    "from __future__ import print_function\n",
    "import time\n",
    "import numpy as np\n",
    "import matplotlib.pyplot as plt\n",
    "from cs231n.classifiers.fc_net import *\n",
    "from cs231n.data_utils import get_CIFAR10_data\n",
    "from cs231n.gradient_check import eval_numerical_gradient, eval_numerical_gradient_array\n",
    "from cs231n.solver import Solver\n",
    "\n",
    "%matplotlib inline\n",
    "plt.rcParams['figure.figsize'] = (10.0, 8.0)\n",
    "plt.rcParams['image.interpolation'] = 'nearest'\n",
    "plt.rcParams['image.cmap'] = 'gray'\n",
    "\n",
    "%load_ext autoreload\n",
    "%autoreload 2\n",
    "\n",
    "def rel_error(x, y):\n",
    "    \"\"\"\n",
    "    returns relative error\n",
    "    \"\"\"\n",
    "    return np.max(np.abs(x - y) / (np.maximum(1e-8, np.abs(x) + np.abs(y))))"
   ]
  },
  {
   "cell_type": "code",
   "execution_count": 2,
   "metadata": {},
   "outputs": [
    {
     "name": "stdout",
     "output_type": "stream",
     "text": [
      "('y_test: ', (1000,))\n",
      "('X_val: ', (1000, 3, 32, 32))\n",
      "('X_test: ', (1000, 3, 32, 32))\n",
      "('X_train: ', (49000, 3, 32, 32))\n",
      "('y_train: ', (49000,))\n",
      "('y_val: ', (1000,))\n"
     ]
    }
   ],
   "source": [
    "# Load the preprocessed CIFAR10 data\n",
    "data = get_CIFAR10_data()\n",
    "for k, v in list(data.items()):\n",
    "    print((\"%s: \" % k, v.shape))"
   ]
  },
  {
   "cell_type": "markdown",
   "metadata": {},
   "source": [
    "### Affine layer: forward"
   ]
  },
  {
   "cell_type": "code",
   "execution_count": 18,
   "metadata": {},
   "outputs": [
    {
     "name": "stdout",
     "output_type": "stream",
     "text": [
      "Testing affine forward function:\n",
      "difference:  9.7698500479884e-10\n"
     ]
    }
   ],
   "source": [
    "# Test the affine forward function\n",
    "num_inputs = 2\n",
    "input_shape = (4, 5, 6)\n",
    "output_dim = 3\n",
    "\n",
    "input_size = num_inputs * np.prod(input_shape)\n",
    "weight_size = output_dim * np.prod(input_shape)\n",
    "\n",
    "x = np.linspace(-0.1, 0.5, num=input_size).reshape(num_inputs, *input_shape)\n",
    "w = np.linspace(-0.2, 0.3, num=weight_size).reshape(np.prod(input_shape), output_dim)\n",
    "b = np.linspace(-0.3, 0.1, num=output_dim)\n",
    "\n",
    "out, _ = affine_forward(x, w, b)\n",
    "correct_out = np.array([[ 1.49834967,  1.70660132,  1.91485297],\n",
    "                        [ 3.25553199,  3.5141327,   3.77273342]])\n",
    "\n",
    "# Compare your output with ours. The error should be around 1e-9\n",
    "print('Testing affine forward function:')\n",
    "print('difference: ', rel_error(out, correct_out))"
   ]
  },
  {
   "cell_type": "code",
   "execution_count": 9,
   "metadata": {},
   "outputs": [],
   "source": [
    "input_shape = (4, 5, 6)\n",
    "input_size = num_inputs * np.prod(input_shape)"
   ]
  },
  {
   "cell_type": "code",
   "execution_count": 10,
   "metadata": {},
   "outputs": [],
   "source": [
    "num_inputs = 2"
   ]
  },
  {
   "cell_type": "code",
   "execution_count": 11,
   "metadata": {},
   "outputs": [],
   "source": [
    "x = np.linspace(-0.1, 0.5, num=input_size).reshape(num_inputs, *input_shape)"
   ]
  },
  {
   "cell_type": "code",
   "execution_count": 14,
   "metadata": {},
   "outputs": [
    {
     "data": {
      "text/plain": [
       "(2, 4, 5, 6)"
      ]
     },
     "execution_count": 14,
     "metadata": {},
     "output_type": "execute_result"
    }
   ],
   "source": [
    "x.shape"
   ]
  },
  {
   "cell_type": "code",
   "execution_count": 15,
   "metadata": {},
   "outputs": [
    {
     "data": {
      "text/plain": [
       "2"
      ]
     },
     "execution_count": 15,
     "metadata": {},
     "output_type": "execute_result"
    }
   ],
   "source": [
    "x.shape[0]"
   ]
  },
  {
   "cell_type": "code",
   "execution_count": 17,
   "metadata": {},
   "outputs": [
    {
     "data": {
      "text/plain": [
       "(2, 120)"
      ]
     },
     "execution_count": 17,
     "metadata": {},
     "output_type": "execute_result"
    }
   ],
   "source": [
    "x.reshape(2, -1).shape"
   ]
  },
  {
   "cell_type": "markdown",
   "metadata": {},
   "source": [
    "### Affine layer: backward"
   ]
  },
  {
   "cell_type": "code",
   "execution_count": 19,
   "metadata": {},
   "outputs": [],
   "source": [
    "# Test the affine backward function\n",
    "np.random.seed(231)\n",
    "x = np.random.randn(10, 2, 3)\n",
    "w = np.random.randn(6, 5)\n",
    "b = np.random.randn(5)\n",
    "dout = np.random.randn(10, 5)\n",
    "\n",
    "# print(\"x: \", x)"
   ]
  },
  {
   "cell_type": "code",
   "execution_count": 21,
   "metadata": {},
   "outputs": [
    {
     "name": "stdout",
     "output_type": "stream",
     "text": [
      "Testing affine backward function:\n",
      "dx error:  1.0908199508708189e-10\n",
      "dw_error:  2.1752635504596857e-10\n",
      "db error:  7.736978834487815e-12\n"
     ]
    }
   ],
   "source": [
    "dx_num = eval_numerical_gradient_array(lambda x: affine_forward(x, w, b)[0], x, dout)\n",
    "dw_num = eval_numerical_gradient_array(lambda w: affine_forward(x, w, b)[0], w, dout)\n",
    "db_num = eval_numerical_gradient_array(lambda b: affine_forward(x, w, b)[0], b, dout)\n",
    "\n",
    "_, cache = affine_forward(x, w, b)\n",
    "dx, dw, db = affine_backward(dout, cache)\n",
    "\n",
    "print(\"Testing affine backward function:\")\n",
    "print(\"dx error: \", rel_error(dx_num, dx))\n",
    "print(\"dw_error: \", rel_error(dw_num, dw))\n",
    "print(\"db error: \", rel_error(db_num, db))"
   ]
  },
  {
   "cell_type": "markdown",
   "metadata": {},
   "source": [
    "### ReLU layer: forward"
   ]
  },
  {
   "cell_type": "code",
   "execution_count": 22,
   "metadata": {},
   "outputs": [
    {
     "name": "stdout",
     "output_type": "stream",
     "text": [
      "[[0.         0.         0.         0.        ]\n",
      " [0.         0.         0.04545455 0.13636364]\n",
      " [0.22727273 0.31818182 0.40909091 0.5       ]]\n"
     ]
    }
   ],
   "source": [
    "x = np.linspace(-0.5, 0.5, num=12).reshape(3, 4)\n",
    "\n",
    "out, _ = relu_forward(x)\n",
    "# correct_out = np.array([[]])\n",
    "print(out)"
   ]
  },
  {
   "cell_type": "markdown",
   "metadata": {},
   "source": [
    "### ReLY layer: backward"
   ]
  },
  {
   "cell_type": "code",
   "execution_count": 31,
   "metadata": {
    "scrolled": true
   },
   "outputs": [
    {
     "name": "stdout",
     "output_type": "stream",
     "text": [
      "cache:  [[ 0.41794341  1.39710028 -1.78590431 -0.70882773 -0.07472532 -0.77501677\n",
      "  -0.1497979   1.86172902 -1.4255293  -0.3763567 ]\n",
      " [-0.34227539  0.29490764 -0.83732373  0.95218767  1.32931659  0.52465245\n",
      "  -0.14809998  0.88953195  0.12444653  0.99109251]\n",
      " [ 0.03514666  0.26207083  0.14320173  0.90101716  0.23185863 -0.79725793\n",
      "   0.12001014 -0.65679608  0.26917456  0.333667  ]\n",
      " [ 0.27423503  0.76215717 -0.69550058  0.29214712 -0.38489942  0.1228747\n",
      "  -1.42904497  0.70286283 -0.85850947 -1.14042979]\n",
      " [-1.58535997 -0.01530138 -0.32156083  0.56834936 -0.19961722  1.27286625\n",
      "   1.27292534  1.58102968 -1.75626715  0.9217743 ]\n",
      " [-0.6753054  -1.43443616  0.47021125  0.03196734  0.04448574  0.47824879\n",
      "  -2.51335181 -1.15740245 -0.70470413 -1.04978879]\n",
      " [-1.90795589  0.49258765  0.83736166 -1.4288134  -0.18982427 -1.14094943\n",
      "  -2.12570755 -0.41354791  0.44148975  0.16411113]\n",
      " [-0.65505065 -0.30212765 -0.25704466 -0.12841368  0.26338593  0.1672181\n",
      "  -0.30871951 -1.26754462 -0.22319022 -0.82993433]\n",
      " [-1.11271826 -0.44613095 -0.40001719  0.36343905  0.94992777 -0.32379447\n",
      "   0.27031704 -0.63381148 -2.71484268  0.65576139]\n",
      " [-1.17004858  0.0598685  -1.64182729 -0.28069634 -0.67946972 -1.80480094\n",
      "   0.53770564 -0.12171369 -1.04250949  0.13828792]]\n"
     ]
    }
   ],
   "source": [
    "np.random.seed(231)\n",
    "x = np.random.randn(10, 10)\n",
    "dout = np.random.randn(*x.shape)\n",
    "\n",
    "dx_num = eval_numerical_gradient_array(lambda x: relu_forward(x)[0], x, dout)\n",
    "\n",
    "_, cache = relu_forward(x)\n",
    "dx = relu_backward(dout, cache)\n",
    "print (\"cache: \", cache)\n",
    "\n"
   ]
  },
  {
   "cell_type": "code",
   "execution_count": 32,
   "metadata": {},
   "outputs": [
    {
     "name": "stdout",
     "output_type": "stream",
     "text": [
      "dx:  [[-0.22557183 -1.1928829  -0.          0.          0.         -0.\n",
      "   0.         -0.35229594  0.         -0.        ]\n",
      " [-0.         -0.84338097 -0.          0.85434757 -0.90377338 -1.0525584\n",
      "  -0.          0.18083726 -0.4125417   1.22913948]\n",
      " [-0.97791748 -0.63978524 -0.00880963  0.36213294  0.35148162 -0.\n",
      "  -0.84272962  0.         -2.39079478  0.88256212]\n",
      " [-1.12082008  0.12416778 -0.         -1.62701704 -0.          2.00862337\n",
      "   0.         -0.86943856  0.         -0.        ]\n",
      " [-0.         -0.         -0.         -0.67498124  0.         -0.11970425\n",
      "   0.59700586 -2.0399063  -0.         -1.61700346]\n",
      " [-0.          0.          1.97009461 -0.81967191  0.42367521 -1.83570698\n",
      "   0.          0.          0.          0.        ]\n",
      " [ 0.          2.13935149 -0.77429891 -0.         -0.         -0.\n",
      "  -0.         -0.          0.59190367 -0.56016357]\n",
      " [ 0.         -0.         -0.          0.          0.37364743 -0.26051388\n",
      "   0.         -0.         -0.          0.        ]\n",
      " [-0.         -0.          0.         -1.74506882 -0.2476718   0.\n",
      "   1.09734348  0.         -0.         -0.32986357]\n",
      " [-0.         -0.00396778  0.         -0.          0.         -0.\n",
      "  -0.9308637  -0.         -0.         -1.1058167 ]]\n"
     ]
    }
   ],
   "source": [
    "print(\"dx: \", dx)"
   ]
  },
  {
   "cell_type": "code",
   "execution_count": 33,
   "metadata": {},
   "outputs": [
    {
     "name": "stdout",
     "output_type": "stream",
     "text": [
      "dx_num:  [[-0.22557183 -1.1928829   0.          0.          0.          0.\n",
      "   0.         -0.35229594  0.          0.        ]\n",
      " [ 0.         -0.84338097  0.          0.85434757 -0.90377338 -1.0525584\n",
      "   0.          0.18083726 -0.4125417   1.22913948]\n",
      " [-0.97791748 -0.63978524 -0.00880963  0.36213294  0.35148162  0.\n",
      "  -0.84272962  0.         -2.39079478  0.88256212]\n",
      " [-1.12082008  0.12416778  0.         -1.62701704  0.          2.00862337\n",
      "   0.         -0.86943856  0.          0.        ]\n",
      " [ 0.          0.          0.         -0.67498124  0.         -0.11970425\n",
      "   0.59700586 -2.0399063   0.         -1.61700346]\n",
      " [ 0.          0.          1.97009461 -0.81967191  0.42367521 -1.83570698\n",
      "   0.          0.          0.          0.        ]\n",
      " [ 0.          2.13935149 -0.77429891  0.          0.          0.\n",
      "   0.          0.          0.59190367 -0.56016357]\n",
      " [ 0.          0.          0.          0.          0.37364743 -0.26051388\n",
      "   0.          0.          0.          0.        ]\n",
      " [ 0.          0.          0.         -1.74506882 -0.2476718   0.\n",
      "   1.09734348  0.          0.         -0.32986357]\n",
      " [ 0.         -0.00396778  0.          0.          0.          0.\n",
      "  -0.9308637   0.          0.         -1.1058167 ]]\n"
     ]
    }
   ],
   "source": [
    "print(\"dx_num: \", dx_num)"
   ]
  },
  {
   "cell_type": "markdown",
   "metadata": {},
   "source": [
    "### Sandwich layers"
   ]
  },
  {
   "cell_type": "code",
   "execution_count": 24,
   "metadata": {},
   "outputs": [],
   "source": [
    "from cs231n.layer_utils import affine_relu_forward, affine_relu_backward\n",
    "np.random.seed(231)\n",
    "x = np.random.randn(2, 3, 4)\n",
    "w = np.random.randn(12, 10)\n",
    "b = np.random.randn(10)\n",
    "dout = np.random.randn(2, 10)"
   ]
  },
  {
   "cell_type": "code",
   "execution_count": 25,
   "metadata": {},
   "outputs": [],
   "source": [
    "out, cache = affine_relu_forward(x, w, b)\n",
    "dx, dw, db = affine_relu_backward(dout, cache)"
   ]
  },
  {
   "cell_type": "code",
   "execution_count": 26,
   "metadata": {},
   "outputs": [],
   "source": [
    "dx_num = eval_numerical_gradient_array(lambda x: affine_relu_forward(x, w, b)[0], x, dout)\n",
    "dw_num = eval_numerical_gradient_array(lambda w: affine_relu_forward(x, w, b)[0], w, dout)\n",
    "db_num = eval_numerical_gradient_array(lambda b: affine_relu_forward(x, w, b)[0], b, dout)"
   ]
  },
  {
   "cell_type": "code",
   "execution_count": 27,
   "metadata": {
    "scrolled": true
   },
   "outputs": [
    {
     "name": "stdout",
     "output_type": "stream",
     "text": [
      "Testing affine relu forward: \n",
      "dx error:  6.395535042049294e-11\n",
      "dw error:  8.162011105764925e-11\n",
      "db error:  7.826724021458994e-12\n"
     ]
    }
   ],
   "source": [
    "print(\"Testing affine relu forward: \")\n",
    "print(\"dx error: \", rel_error(dx_num, dx))\n",
    "print(\"dw error: \", rel_error(dw_num, dw))\n",
    "print(\"db error: \", rel_error(db_num, db))"
   ]
  },
  {
   "cell_type": "code",
   "execution_count": 28,
   "metadata": {},
   "outputs": [],
   "source": [
    "x = 2"
   ]
  },
  {
   "cell_type": "code",
   "execution_count": 29,
   "metadata": {},
   "outputs": [],
   "source": [
    "dx[x <= 0] = 0"
   ]
  },
  {
   "cell_type": "code",
   "execution_count": 30,
   "metadata": {
    "scrolled": true
   },
   "outputs": [
    {
     "data": {
      "text/plain": [
       "array([[[ 1.80622993, -1.30838532, -4.89618025,  0.73040886],\n",
       "        [-0.23507179, -1.46048016, -2.57315203, -3.691443  ],\n",
       "        [-1.71573295, -2.04496664, -1.54429804,  0.25099462]],\n",
       "\n",
       "       [[ 1.18194977,  3.46684392, -4.6616882 ,  4.52081303],\n",
       "        [ 6.29267365,  0.91510578,  1.23975253,  1.23033615],\n",
       "        [ 0.2245295 ,  1.77601743,  5.43273975, -3.06160657]]])"
      ]
     },
     "execution_count": 30,
     "metadata": {},
     "output_type": "execute_result"
    }
   ],
   "source": [
    "dx"
   ]
  },
  {
   "cell_type": "code",
   "execution_count": 34,
   "metadata": {},
   "outputs": [
    {
     "data": {
      "text/plain": [
       "array([-1.78590431, -0.83732373])"
      ]
     },
     "execution_count": 34,
     "metadata": {},
     "output_type": "execute_result"
    }
   ],
   "source": [
    "x[np.arange(2), 2]"
   ]
  },
  {
   "cell_type": "code",
   "execution_count": 36,
   "metadata": {},
   "outputs": [
    {
     "data": {
      "text/plain": [
       "array([[ 0.41794341,  1.39710028, -1.78590431, -0.70882773, -0.07472532,\n",
       "        -0.77501677, -0.1497979 ,  1.86172902, -1.4255293 , -0.3763567 ],\n",
       "       [-0.34227539,  0.29490764, -0.83732373,  0.95218767,  1.32931659,\n",
       "         0.52465245, -0.14809998,  0.88953195,  0.12444653,  0.99109251],\n",
       "       [ 0.03514666,  0.26207083,  0.14320173,  0.90101716,  0.23185863,\n",
       "        -0.79725793,  0.12001014, -0.65679608,  0.26917456,  0.333667  ],\n",
       "       [ 0.27423503,  0.76215717, -0.69550058,  0.29214712, -0.38489942,\n",
       "         0.1228747 , -1.42904497,  0.70286283, -0.85850947, -1.14042979],\n",
       "       [-1.58535997, -0.01530138, -0.32156083,  0.56834936, -0.19961722,\n",
       "         1.27286625,  1.27292534,  1.58102968, -1.75626715,  0.9217743 ],\n",
       "       [-0.6753054 , -1.43443616,  0.47021125,  0.03196734,  0.04448574,\n",
       "         0.47824879, -2.51335181, -1.15740245, -0.70470413, -1.04978879],\n",
       "       [-1.90795589,  0.49258765,  0.83736166, -1.4288134 , -0.18982427,\n",
       "        -1.14094943, -2.12570755, -0.41354791,  0.44148975,  0.16411113],\n",
       "       [-0.65505065, -0.30212765, -0.25704466, -0.12841368,  0.26338593,\n",
       "         0.1672181 , -0.30871951, -1.26754462, -0.22319022, -0.82993433],\n",
       "       [-1.11271826, -0.44613095, -0.40001719,  0.36343905,  0.94992777,\n",
       "        -0.32379447,  0.27031704, -0.63381148, -2.71484268,  0.65576139],\n",
       "       [-1.17004858,  0.0598685 , -1.64182729, -0.28069634, -0.67946972,\n",
       "        -1.80480094,  0.53770564, -0.12171369, -1.04250949,  0.13828792]])"
      ]
     },
     "execution_count": 36,
     "metadata": {},
     "output_type": "execute_result"
    }
   ],
   "source": [
    "x"
   ]
  },
  {
   "cell_type": "code",
   "execution_count": 35,
   "metadata": {},
   "outputs": [
    {
     "data": {
      "text/plain": [
       "array([0, 1])"
      ]
     },
     "execution_count": 35,
     "metadata": {},
     "output_type": "execute_result"
    }
   ],
   "source": [
    "np.arange(2)"
   ]
  },
  {
   "cell_type": "markdown",
   "metadata": {},
   "source": [
    "### Loss layers: Softmax and SVM"
   ]
  },
  {
   "cell_type": "code",
   "execution_count": 38,
   "metadata": {},
   "outputs": [],
   "source": [
    "np.random.seed(231)\n",
    "num_classes, num_inputs = 10, 50\n",
    "x = 0.001 * np.random.randn(num_inputs, num_classes)\n",
    "y = np.random.randint(num_classes, size=num_inputs)"
   ]
  },
  {
   "cell_type": "code",
   "execution_count": 40,
   "metadata": {},
   "outputs": [
    {
     "data": {
      "text/plain": [
       "(50, 10)"
      ]
     },
     "execution_count": 40,
     "metadata": {},
     "output_type": "execute_result"
    }
   ],
   "source": [
    "x.shape"
   ]
  },
  {
   "cell_type": "code",
   "execution_count": 41,
   "metadata": {},
   "outputs": [
    {
     "data": {
      "text/plain": [
       "(50,)"
      ]
     },
     "execution_count": 41,
     "metadata": {},
     "output_type": "execute_result"
    }
   ],
   "source": [
    "y.shape"
   ]
  },
  {
   "cell_type": "code",
   "execution_count": 42,
   "metadata": {},
   "outputs": [
    {
     "data": {
      "text/plain": [
       "array([2, 5, 0, 6, 5, 5, 0, 8, 8, 9, 4, 0, 0, 3, 1, 2, 8, 5, 8, 7, 4, 9,\n",
       "       5, 1, 5, 7, 0, 0, 7, 0, 9, 8, 5, 9, 3, 7, 7, 9, 7, 3, 7, 3, 3, 3,\n",
       "       8, 0, 5, 9, 5, 2])"
      ]
     },
     "execution_count": 42,
     "metadata": {},
     "output_type": "execute_result"
    }
   ],
   "source": [
    "y"
   ]
  },
  {
   "cell_type": "code",
   "execution_count": 43,
   "metadata": {},
   "outputs": [],
   "source": [
    "correct_class_scores = x[np.arange(50), y]"
   ]
  },
  {
   "cell_type": "code",
   "execution_count": 45,
   "metadata": {},
   "outputs": [
    {
     "data": {
      "text/plain": [
       "(50,)"
      ]
     },
     "execution_count": 45,
     "metadata": {},
     "output_type": "execute_result"
    }
   ],
   "source": [
    "correct_class_scores.shape"
   ]
  },
  {
   "cell_type": "code",
   "execution_count": 47,
   "metadata": {},
   "outputs": [
    {
     "data": {
      "text/plain": [
       "(50, 1)"
      ]
     },
     "execution_count": 47,
     "metadata": {},
     "output_type": "execute_result"
    }
   ],
   "source": [
    "correct_class_scores[:, np.newaxis].shape"
   ]
  },
  {
   "cell_type": "code",
   "execution_count": 48,
   "metadata": {},
   "outputs": [
    {
     "data": {
      "text/plain": [
       "array([[ 2.20384772e-03,  3.18300459e-03,  0.00000000e+00,\n",
       "         1.07707657e-03,  1.71117899e-03,  1.01088754e-03,\n",
       "         1.63610641e-03,  3.64763333e-03,  3.60375009e-04,\n",
       "         1.40954761e-03],\n",
       "       [-8.66927844e-04, -2.29744817e-04, -1.36197618e-03,\n",
       "         4.27535216e-04,  8.04664138e-04,  0.00000000e+00,\n",
       "        -6.72752438e-04,  3.64879495e-04, -4.00205926e-04,\n",
       "         4.66440059e-04],\n",
       "       [ 0.00000000e+00,  2.26924167e-04,  1.08055064e-04,\n",
       "         8.65870495e-04,  1.96711967e-04, -8.32404589e-04,\n",
       "         8.48634769e-05, -6.91942741e-04,  2.34027894e-04,\n",
       "         2.98520338e-04],\n",
       "       [ 1.70327999e-03,  2.19120214e-03,  7.33544383e-04,\n",
       "         1.72119209e-03,  1.04414554e-03,  1.55191967e-03,\n",
       "         0.00000000e+00,  2.13190780e-03,  5.70535495e-04,\n",
       "         2.88615171e-04],\n",
       "       [-2.85822622e-03, -1.28816763e-03, -1.59442708e-03,\n",
       "        -7.04516890e-04, -1.47248347e-03,  0.00000000e+00,\n",
       "         5.90935960e-08,  3.08163435e-04, -3.02913340e-03,\n",
       "        -3.51091944e-04],\n",
       "       [-1.15355419e-03, -1.91268495e-03, -8.03753946e-06,\n",
       "        -4.46281444e-04, -4.33763049e-04,  0.00000000e+00,\n",
       "        -2.99160060e-03, -1.63565124e-03, -1.18295291e-03,\n",
       "        -1.52803758e-03],\n",
       "       [ 0.00000000e+00,  2.40054353e-03,  2.74531754e-03,\n",
       "         4.79142483e-04,  1.71813161e-03,  7.67006455e-04,\n",
       "        -2.17751663e-04,  1.49440797e-03,  2.34944563e-03,\n",
       "         2.07206701e-03],\n",
       "       [-4.31860436e-04, -7.89374319e-05, -3.38544370e-05,\n",
       "         9.47765435e-05,  4.86576144e-04,  3.90408316e-04,\n",
       "        -8.55292896e-05, -1.04435440e-03,  0.00000000e+00,\n",
       "        -6.06744113e-04],\n",
       "       [ 1.60212442e-03,  2.26871173e-03,  2.31482549e-03,\n",
       "         3.07828173e-03,  3.66477045e-03,  2.39104821e-03,\n",
       "         2.98515972e-03,  2.08103120e-03,  0.00000000e+00,\n",
       "         3.37060407e-03],\n",
       "       [-1.30833650e-03, -7.84194195e-05, -1.78011521e-03,\n",
       "        -4.18984266e-04, -8.17757646e-04, -1.94308887e-03,\n",
       "         3.99417721e-04, -2.60001611e-04, -1.18079741e-03,\n",
       "         0.00000000e+00],\n",
       "       [-2.56278439e-04, -1.22358951e-03, -7.13913566e-04,\n",
       "         1.68387475e-04,  0.00000000e+00, -4.80433000e-04,\n",
       "         1.13768709e-04, -3.83002551e-04,  4.57506996e-04,\n",
       "        -4.65416507e-04],\n",
       "       [ 0.00000000e+00, -5.56458317e-04,  1.78648713e-04,\n",
       "         1.14127023e-03, -6.16850726e-04, -7.65635743e-04,\n",
       "        -1.71752832e-05,  4.67759911e-04, -1.25619042e-04,\n",
       "         1.51606214e-03],\n",
       "       [ 0.00000000e+00,  3.38132235e-04,  9.69107848e-04,\n",
       "         1.34005042e-03,  1.32939910e-03, -2.22722872e-04,\n",
       "         1.35187855e-04,  2.59624249e-03, -1.41287730e-03,\n",
       "         1.86047960e-03],\n",
       "       [ 5.06196959e-04,  1.75118482e-03, -8.07328946e-04,\n",
       "         0.00000000e+00,  5.20877585e-04,  3.63564040e-03,\n",
       "         2.54149695e-03,  7.57578475e-04,  1.76442721e-03,\n",
       "         9.04402390e-04],\n",
       "       [-6.34710354e-04,  0.00000000e+00, -1.11671749e-03,\n",
       "        -6.34139789e-04,  4.83367887e-04, -7.88627997e-05,\n",
       "         6.37847310e-04, -1.99906485e-03, -6.03861844e-04,\n",
       "        -1.57616201e-03],\n",
       "       [-3.82580245e-03, -1.22204221e-03,  0.00000000e+00,\n",
       "        -2.78976652e-03, -1.54641940e-03, -3.80580159e-03,\n",
       "        -9.64258334e-04, -1.91174963e-03, -9.83224417e-04,\n",
       "        -1.69181948e-03],\n",
       "       [-4.72284673e-04,  1.54744782e-03, -1.36620258e-03,\n",
       "        -1.01202153e-03, -1.36958683e-03, -1.60606228e-03,\n",
       "        -2.89486483e-03, -9.59749174e-04,  0.00000000e+00,\n",
       "        -1.15206725e-03],\n",
       "       [ 1.29391064e-03, -9.46671866e-04, -6.73752008e-04,\n",
       "         1.18286225e-03,  6.34161310e-04,  0.00000000e+00,\n",
       "         8.73021526e-04, -3.65964027e-04, -1.42466849e-04,\n",
       "         3.50234826e-04],\n",
       "       [-2.15656231e-04, -2.02747906e-04,  9.51124138e-04,\n",
       "        -1.37273109e-03,  1.24665929e-04,  1.10543402e-03,\n",
       "         1.46968121e-03,  5.27763598e-04,  0.00000000e+00,\n",
       "         4.24741631e-05],\n",
       "       [ 5.88529394e-04,  6.27000890e-04,  8.32797582e-04,\n",
       "        -3.18117526e-05,  7.89486762e-04, -1.00163322e-03,\n",
       "        -2.99895031e-04,  0.00000000e+00, -1.25601018e-03,\n",
       "        -4.74848026e-04],\n",
       "       [-8.18631996e-04, -2.14753459e-03, -2.58263507e-03,\n",
       "         1.04191979e-03,  0.00000000e+00, -2.42049136e-03,\n",
       "        -1.59436835e-03, -1.78979904e-03, -5.08710809e-04,\n",
       "        -4.66895238e-04],\n",
       "       [ 2.32198595e-04, -9.17746376e-04, -2.17161839e-03,\n",
       "        -8.29934861e-04, -4.31976771e-04, -1.27825013e-03,\n",
       "        -3.45074970e-05, -1.06551207e-03, -6.66279827e-04,\n",
       "         0.00000000e+00],\n",
       "       [ 1.23149526e-03, -3.65849768e-05,  2.63376339e-04,\n",
       "        -1.42994143e-03,  4.16538204e-04,  0.00000000e+00,\n",
       "         1.74581537e-03, -9.34790968e-04,  2.28449744e-03,\n",
       "        -8.83977519e-04],\n",
       "       [-1.63162386e-03,  0.00000000e+00, -5.61117963e-04,\n",
       "        -1.07332928e-03,  2.00564301e-04,  6.93984834e-04,\n",
       "        -3.51864389e-03, -1.00463233e-03,  7.32887934e-05,\n",
       "         5.16575600e-06],\n",
       "       [-5.39217570e-04, -2.67072356e-04, -2.05900999e-03,\n",
       "        -5.41561764e-04, -3.59150600e-05,  0.00000000e+00,\n",
       "        -2.00089347e-04, -4.67249455e-04, -4.43967788e-05,\n",
       "        -1.54474917e-04],\n",
       "       [ 2.82697861e-04,  1.52055765e-03, -1.75223251e-03,\n",
       "         2.08329326e-03,  4.81159047e-04, -9.54359163e-05,\n",
       "         1.73172539e-03,  0.00000000e+00,  2.44099819e-03,\n",
       "         2.08506595e-03],\n",
       "       [ 0.00000000e+00,  1.57677436e-03, -4.03236302e-04,\n",
       "         6.17798643e-04,  1.07605010e-03,  5.17815376e-04,\n",
       "         2.52388463e-04, -7.45949949e-04, -4.71707717e-04,\n",
       "        -1.22320912e-03],\n",
       "       [ 0.00000000e+00,  2.06437039e-03,  2.50984092e-03,\n",
       "        -1.60468347e-04,  2.51379864e-03,  4.00050384e-04,\n",
       "         1.86466371e-04,  3.29585830e-04,  3.03702395e-03,\n",
       "         2.42391483e-03],\n",
       "       [-3.93774241e-03, -1.20074678e-03, -1.02045457e-03,\n",
       "         6.49216552e-04, -1.23734244e-03, -1.89005119e-03,\n",
       "        -2.56717710e-03,  0.00000000e+00, -1.31199061e-03,\n",
       "        -3.59666205e-03],\n",
       "       [ 0.00000000e+00,  1.54559715e-03,  7.46441275e-04,\n",
       "         2.15413546e-03, -9.18951703e-04, -2.25925459e-04,\n",
       "         3.08908702e-03,  1.63868145e-03,  3.77503039e-04,\n",
       "         5.16060207e-04],\n",
       "       [-7.02596850e-04, -1.20739708e-03, -1.89301683e-04,\n",
       "        -2.40623173e-03, -1.68114627e-03, -8.32265701e-04,\n",
       "        -1.50600956e-03, -1.00822174e-03, -2.23889601e-04,\n",
       "         0.00000000e+00],\n",
       "       [-3.05136884e-04,  6.48222773e-04,  1.34391497e-04,\n",
       "        -1.99890256e-03,  9.47903869e-04, -1.35200028e-03,\n",
       "        -2.46426014e-04, -4.92834019e-04,  0.00000000e+00,\n",
       "        -1.74888621e-04],\n",
       "       [ 3.14963260e-03,  6.04723564e-04,  3.69558101e-03,\n",
       "         8.81642663e-04,  5.16867515e-04,  0.00000000e+00,\n",
       "         2.05429067e-03,  1.40880080e-03,  1.67346844e-03,\n",
       "         1.03661507e-03],\n",
       "       [-3.13832181e-03, -1.26230960e-03, -2.79910358e-03,\n",
       "        -3.45100846e-03, -2.38642253e-03, -3.03631430e-03,\n",
       "        -3.90586331e-03, -2.84039729e-03, -3.34188195e-03,\n",
       "         0.00000000e+00],\n",
       "       [ 3.21714516e-04,  5.90190966e-04,  7.72066068e-04,\n",
       "         0.00000000e+00, -3.26150204e-04, -8.12370084e-04,\n",
       "        -1.20404692e-04, -6.76021009e-04, -9.57284285e-04,\n",
       "         8.85001037e-04],\n",
       "       [ 1.96097984e-04, -1.04655524e-03, -5.94673338e-04,\n",
       "         1.64944307e-03,  1.52569080e-03,  1.44832110e-03,\n",
       "         2.67971155e-05,  0.00000000e+00,  5.46251582e-04,\n",
       "         1.58200866e-03],\n",
       "       [ 1.02791048e-03,  3.01923956e-04, -9.62952277e-04,\n",
       "        -7.31949649e-05, -1.86916689e-03,  1.54478915e-03,\n",
       "        -1.40613007e-03,  0.00000000e+00,  9.96864360e-05,\n",
       "         2.56897621e-04],\n",
       "       [ 1.05176145e-03,  2.47947087e-03, -1.41636201e-03,\n",
       "         4.28405906e-04, -2.01933283e-03, -9.53363963e-04,\n",
       "         1.33417493e-03,  5.36585518e-05, -6.97238637e-05,\n",
       "         0.00000000e+00],\n",
       "       [ 1.28685358e-03,  1.55235098e-03,  4.12061042e-04,\n",
       "         1.28048839e-03,  2.79152388e-03,  9.80413915e-04,\n",
       "         1.46677110e-04,  0.00000000e+00, -2.69867901e-03,\n",
       "         2.91495267e-03],\n",
       "       [-2.13936150e-03, -2.91401059e-03, -2.37562055e-03,\n",
       "         0.00000000e+00, -1.87851618e-03, -1.62311200e-03,\n",
       "        -1.63018118e-03, -2.11846363e-03, -1.16430311e-03,\n",
       "        -2.42860447e-03],\n",
       "       [-6.43796453e-05, -6.15771796e-05, -4.71968753e-04,\n",
       "         4.45528368e-04, -2.06118789e-03, -7.78203572e-04,\n",
       "        -7.30576106e-04,  0.00000000e+00, -6.16526941e-04,\n",
       "        -5.97152751e-04],\n",
       "       [-1.03858212e-03,  1.32948744e-03, -1.03946285e-03,\n",
       "         0.00000000e+00,  1.75064783e-03,  2.89971988e-03,\n",
       "         8.89816177e-04, -1.36018671e-03, -9.36234594e-04,\n",
       "         1.05076472e-03],\n",
       "       [ 1.24458153e-03, -6.86607118e-04,  1.28799972e-03,\n",
       "         0.00000000e+00, -1.98502275e-04,  1.36965864e-03,\n",
       "         7.33092152e-04,  1.30018612e-03,  2.74119817e-03,\n",
       "         5.46643886e-04],\n",
       "       [-9.78353947e-04,  1.22350946e-03, -7.19597905e-04,\n",
       "         0.00000000e+00, -2.16994150e-03,  2.52115269e-04,\n",
       "         3.79907344e-04,  2.68847701e-04, -1.86759937e-04,\n",
       "        -2.45409674e-03],\n",
       "       [ 1.25298364e-03,  4.84304854e-05,  2.19971189e-04,\n",
       "        -1.60426996e-03, -3.02680692e-04,  1.98039431e-03,\n",
       "        -2.55043968e-03,  1.11626292e-03,  0.00000000e+00,\n",
       "         1.01864818e-03],\n",
       "       [ 0.00000000e+00,  6.37167076e-04, -1.28893221e-03,\n",
       "        -2.01059657e-04,  1.87182787e-03, -1.23832986e-03,\n",
       "        -7.49596459e-04, -5.62735835e-04, -4.26048573e-04,\n",
       "        -7.50864610e-04],\n",
       "       [ 3.08985026e-04,  1.76327957e-03,  1.61427387e-03,\n",
       "         6.17829734e-06, -7.17201431e-04,  0.00000000e+00,\n",
       "         1.05158072e-03, -6.21445192e-04, -1.45446697e-04,\n",
       "         1.80903378e-03],\n",
       "       [ 8.62630231e-05, -4.36938631e-04, -1.86789506e-05,\n",
       "         1.20360214e-03, -9.34691101e-05, -1.57414639e-03,\n",
       "         1.61539971e-03, -7.59840261e-04,  2.88212254e-04,\n",
       "         0.00000000e+00],\n",
       "       [-4.20926725e-04, -2.94092802e-03, -1.34415448e-03,\n",
       "        -2.68571690e-03, -1.29747417e-03,  0.00000000e+00,\n",
       "        -1.36301834e-03, -5.40949534e-04, -1.54892396e-03,\n",
       "        -1.60907273e-03],\n",
       "       [ 7.69851391e-04,  1.20042255e-03,  0.00000000e+00,\n",
       "        -8.77570509e-04,  2.05949568e-03, -1.24737199e-03,\n",
       "         1.31306249e-03,  1.62238702e-03,  2.99590460e-04,\n",
       "         9.88224616e-05]])"
      ]
     },
     "execution_count": 48,
     "metadata": {},
     "output_type": "execute_result"
    }
   ],
   "source": [
    "x - correct_class_scores[:, np.newaxis]"
   ]
  },
  {
   "cell_type": "code",
   "execution_count": null,
   "metadata": {},
   "outputs": [],
   "source": []
  },
  {
   "cell_type": "code",
   "execution_count": 49,
   "metadata": {},
   "outputs": [],
   "source": [
    "dx_num = eval_numerical_gradient(lambda x: svm_loss(x, y)[0], x, verbose=False)\n",
    "loss, dx = svm_loss(x, y)"
   ]
  },
  {
   "cell_type": "code",
   "execution_count": 50,
   "metadata": {},
   "outputs": [
    {
     "name": "stdout",
     "output_type": "stream",
     "text": [
      "Testing svm_loss:\n",
      "loss:  8.999602749096233\n",
      "dx error:  1.4021566006651672e-09\n"
     ]
    }
   ],
   "source": [
    "print(\"Testing svm_loss:\")\n",
    "print(\"loss: \", loss)\n",
    "print(\"dx error: \", rel_error(dx_num, dx))"
   ]
  },
  {
   "cell_type": "code",
   "execution_count": 51,
   "metadata": {},
   "outputs": [],
   "source": [
    "dx_num = eval_numerical_gradient(lambda x: softmax_loss(x, y)[0], x, verbose=False)\n",
    "loss, dx = softmax_loss(x, y)"
   ]
  },
  {
   "cell_type": "code",
   "execution_count": 52,
   "metadata": {},
   "outputs": [
    {
     "name": "stdout",
     "output_type": "stream",
     "text": [
      "Testing softmax loss:\n",
      "loss:  2.302545844500738\n",
      "dx error:  9.384673161989355e-09\n"
     ]
    }
   ],
   "source": [
    "print(\"Testing softmax loss:\")\n",
    "print(\"loss: \", loss)\n",
    "print(\"dx error: \", rel_error(dx_num, dx))"
   ]
  },
  {
   "cell_type": "markdown",
   "metadata": {},
   "source": [
    "### Two - layer network"
   ]
  },
  {
   "cell_type": "code",
   "execution_count": 53,
   "metadata": {},
   "outputs": [],
   "source": [
    "np.random.seed(231)\n",
    "N, D, H, C = 3, 5, 50, 7\n",
    "X = np.random.randn(N, D)\n",
    "y = np.random.randint(C, size = N)\n",
    "\n",
    "std = 1e-3"
   ]
  },
  {
   "cell_type": "code",
   "execution_count": 54,
   "metadata": {},
   "outputs": [],
   "source": [
    "model = TwoLayerNet(input_dim = D, hidden_dim=H, num_classes=C, weight_scale=std)"
   ]
  },
  {
   "cell_type": "code",
   "execution_count": 55,
   "metadata": {},
   "outputs": [
    {
     "name": "stdout",
     "output_type": "stream",
     "text": [
      "Testing initialization ... \n"
     ]
    }
   ],
   "source": [
    "print(\"Testing initialization ... \")\n",
    "W1_std = abs(model.params['W1'].std() - std)\n",
    "b1 = model.params['b1']\n",
    "W2_std = abs(model.params['W2'].std() - std)\n",
    "b2 = model.params['b2']"
   ]
  },
  {
   "cell_type": "code",
   "execution_count": 56,
   "metadata": {},
   "outputs": [],
   "source": [
    "assert W1_std < std / 10, \"First layer weights do not seen right\"\n",
    "assert np.all(b1 == 0), \"First layer biases do not seem right\"\n",
    "assert W2_std < std / 10, \"Second layer weights do not seem right\"\n",
    "assert np.all(b2 == 0), 'Second layer biases do not seen right\"'"
   ]
  },
  {
   "cell_type": "code",
   "execution_count": 57,
   "metadata": {},
   "outputs": [],
   "source": [
    "model.params['W1'] = np.linspace(-0.7, 0.3, num=D*H).reshape(D, H)\n",
    "model.params['b1'] = np.linspace(-0.1, 0.9, num=H)\n",
    "model.params['W2'] = np.linspace(-0.3, 0.4, num=H*C).reshape(H, C)\n",
    "model.params['b2'] = np.linspace(-0.9, 0.1, num=C)"
   ]
  },
  {
   "cell_type": "code",
   "execution_count": 58,
   "metadata": {},
   "outputs": [],
   "source": [
    "X = np.linspace(-5.5, 4.5, num=N*D).reshape(D, N).T\n",
    "scores = model.loss(X)\n",
    "correct_scores = np.asarray([[11.53165108,  12.2917344,   13.05181771,  13.81190102,  14.57198434, 15.33206765,  16.09215096],\n",
    "   [12.05769098,  12.74614105,  13.43459113,  14.1230412,   14.81149128, 15.49994135,  16.18839143],\n",
    "   [12.58373087,  13.20054771,  13.81736455,  14.43418138,  15.05099822, 15.66781506,  16.2846319 ]])"
   ]
  },
  {
   "cell_type": "code",
   "execution_count": 59,
   "metadata": {},
   "outputs": [],
   "source": [
    "scores_diff = np.abs(scores - correct_scores).sum()"
   ]
  },
  {
   "cell_type": "code",
   "execution_count": 62,
   "metadata": {},
   "outputs": [],
   "source": [
    "assert scores_diff < 1e-6, \"Problem with test-time forward pass\""
   ]
  },
  {
   "cell_type": "markdown",
   "metadata": {},
   "source": [
    "### Solver"
   ]
  },
  {
   "cell_type": "code",
   "execution_count": 63,
   "metadata": {},
   "outputs": [],
   "source": [
    "model = TwoLayerNet()\n",
    "solver = Solver(model, data, update_rule = 'sgd', optim_config = {\n",
    "    'learning_rate': 1e-3,\n",
    "},\n",
    "               lr_decay = 0.95,\n",
    "               num_epochs=10,\n",
    "               batch_size = 236,\n",
    "               print_every=100)da"
   ]
  },
  {
   "cell_type": "code",
   "execution_count": 64,
   "metadata": {},
   "outputs": [
    {
     "name": "stdout",
     "output_type": "stream",
     "text": [
      "(Iteration 1 / 2070) loss: 2.305961\n",
      "(Epoch 0 / 10) train acc: 0.113000; val_acc: 0.084000\n",
      "(Iteration 101 / 2070) loss: 1.782752\n",
      "(Iteration 201 / 2070) loss: 1.660997\n",
      "(Epoch 1 / 10) train acc: 0.411000; val_acc: 0.413000\n",
      "(Iteration 301 / 2070) loss: 1.623456\n",
      "(Iteration 401 / 2070) loss: 1.580220\n",
      "(Epoch 2 / 10) train acc: 0.485000; val_acc: 0.455000\n",
      "(Iteration 501 / 2070) loss: 1.516204\n",
      "(Iteration 601 / 2070) loss: 1.451538\n",
      "(Epoch 3 / 10) train acc: 0.488000; val_acc: 0.468000\n",
      "(Iteration 701 / 2070) loss: 1.622765\n",
      "(Iteration 801 / 2070) loss: 1.488118\n",
      "(Epoch 4 / 10) train acc: 0.514000; val_acc: 0.491000\n",
      "(Iteration 901 / 2070) loss: 1.405215\n",
      "(Iteration 1001 / 2070) loss: 1.423761\n",
      "(Epoch 5 / 10) train acc: 0.505000; val_acc: 0.484000\n",
      "(Iteration 1101 / 2070) loss: 1.345751\n",
      "(Iteration 1201 / 2070) loss: 1.259718\n",
      "(Epoch 6 / 10) train acc: 0.585000; val_acc: 0.499000\n",
      "(Iteration 1301 / 2070) loss: 1.333484\n",
      "(Iteration 1401 / 2070) loss: 1.344973\n",
      "(Epoch 7 / 10) train acc: 0.581000; val_acc: 0.500000\n",
      "(Iteration 1501 / 2070) loss: 1.315636\n",
      "(Iteration 1601 / 2070) loss: 1.407963\n",
      "(Epoch 8 / 10) train acc: 0.568000; val_acc: 0.498000\n",
      "(Iteration 1701 / 2070) loss: 1.173208\n",
      "(Iteration 1801 / 2070) loss: 1.253118\n",
      "(Epoch 9 / 10) train acc: 0.582000; val_acc: 0.507000\n",
      "(Iteration 1901 / 2070) loss: 1.245580\n",
      "(Iteration 2001 / 2070) loss: 1.303172\n",
      "(Epoch 10 / 10) train acc: 0.582000; val_acc: 0.521000\n"
     ]
    }
   ],
   "source": [
    "solver.train()"
   ]
  },
  {
   "cell_type": "code",
   "execution_count": 65,
   "metadata": {},
   "outputs": [
    {
     "data": {
      "image/png": "[encoded data removed]",
      "text/plain": [
       "<matplotlib.figure.Figure at 0x7f0d59d26a20>"
      ]
     },
     "metadata": {},
     "output_type": "display_data"
    }
   ],
   "source": [
    "plt.subplot(2, 1, 1)\n",
    "plt.title('Training loss')\n",
    "plt.plot(solver.loss_history, 'o')\n",
    "plt.xlabel('Iteration')\n",
    "\n",
    "plt.subplot(2, 1, 2)\n",
    "plt.title('Accuracy')\n",
    "plt.plot(solver.train_acc_history, '-o', label='train')\n",
    "plt.plot(solver.val_acc_history, '-o', label='val')\n",
    "plt.plot([0.5] * len(solver.val_acc_history), 'k--')\n",
    "plt.xlabel('Epoch')\n",
    "plt.legend(loc='lower right')\n",
    "plt.gcf().set_size_inches(15, 12)\n",
    "plt.show()"
   ]
  },
  {
   "cell_type": "code",
   "execution_count": 68,
   "metadata": {},
   "outputs": [],
   "source": [
    "input_dim = 3 * 32 * 32\n",
    "hidden_dims = [100, 100]\n",
    "num_classes = 10\n",
    "net_dims = [input_dim] + hidden_dims + [num_classes]"
   ]
  },
  {
   "cell_type": "markdown",
   "metadata": {},
   "source": [
    "### Multilayer network"
   ]
  },
  {
   "cell_type": "code",
   "execution_count": 69,
   "metadata": {},
   "outputs": [
    {
     "name": "stderr",
     "output_type": "stream",
     "text": [
      "[autoreload of cs231n.classifiers.fc_net failed: Traceback (most recent call last):\n",
      "  File \"/usr/local/lib/python3.5/dist-packages/IPython/extensions/autoreload.py\", line 246, in check\n",
      "    superreload(m, reload, self.old_objects)\n",
      "  File \"/usr/local/lib/python3.5/dist-packages/IPython/extensions/autoreload.py\", line 369, in superreload\n",
      "    module = reload(module)\n",
      "  File \"/usr/lib/python3.5/imp.py\", line 314, in reload\n",
      "    return importlib.reload(module)\n",
      "  File \"/usr/lib/python3.5/importlib/__init__.py\", line 166, in reload\n",
      "    _bootstrap._exec(spec, module)\n",
      "  File \"<frozen importlib._bootstrap>\", line 626, in _exec\n",
      "  File \"<frozen importlib._bootstrap_external>\", line 661, in exec_module\n",
      "  File \"<frozen importlib._bootstrap_external>\", line 767, in get_code\n",
      "  File \"<frozen importlib._bootstrap_external>\", line 727, in source_to_code\n",
      "  File \"<frozen importlib._bootstrap>\", line 222, in _call_with_frames_removed\n",
      "  File \"/home/damvantai/Dropbox/source/courses/CS231n Convolutional Neural Networks for Visual Recognition/assignment-2/cs231n/classifiers/fc_net.py\", line 299\n",
      "    self.params['W%d', %i],\n",
      "                       ^\n",
      "SyntaxError: invalid syntax\n",
      "]\n"
     ]
    }
   ],
   "source": [
    "np.random.seed(251)"
   ]
  },
  {
   "cell_type": "code",
   "execution_count": 70,
   "metadata": {},
   "outputs": [],
   "source": [
    "N, D, H1, H2, C = 2, 15, 20, 30, 10"
   ]
  },
  {
   "cell_type": "code",
   "execution_count": 71,
   "metadata": {},
   "outputs": [],
   "source": [
    "X = np.random.randn(N, D)\n",
    "y = np.random.randint(C, size=(N,))"
   ]
  },
  {
   "cell_type": "code",
   "execution_count": 72,
   "metadata": {},
   "outputs": [
    {
     "name": "stdout",
     "output_type": "stream",
     "text": [
      "Running check with reg =  0\n",
      "Initial loss:  2.307941433441618\n",
      "W1 relative error: 4.18e-07\n",
      "W2 relative error: 6.68e-07\n",
      "W3 relative error: 3.33e-07\n",
      "b1 relative error: 2.57e-08\n",
      "b2 relative error: 7.53e-09\n",
      "b3 relative error: 6.71e-11\n",
      "Running check with reg =  3.14\n",
      "Initial loss:  6.765122333792326\n",
      "W1 relative error: 3.88e-08\n",
      "W2 relative error: 3.19e-08\n",
      "W3 relative error: 9.70e-07\n",
      "b1 relative error: 2.01e-08\n",
      "b2 relative error: 1.06e-08\n",
      "b3 relative error: 1.60e-10\n"
     ]
    }
   ],
   "source": [
    "for reg in [0, 3.14]:\n",
    "    print(\"Running check with reg = \", reg)\n",
    "    model = FullyConnectedNet([H1, H2], input_dim = D, num_classes = C, reg = reg, weight_scale = 5e-2, dtype=np.float64)\n",
    "    \n",
    "    loss, grads = model.loss(X, y)\n",
    "    print('Initial loss: ', loss)\n",
    "    \n",
    "    for name in sorted(grads):\n",
    "        f = lambda _: model.loss(X, y)[0]\n",
    "        grad_num = eval_numerical_gradient(f, model.params[name], verbose=False, h=1e-5)\n",
    "        print('%s relative error: %.2e' % (name, rel_error(grad_num, grads[name])))"
   ]
  },
  {
   "cell_type": "code",
   "execution_count": 97,
   "metadata": {},
   "outputs": [],
   "source": [
    "num_train = 50\n",
    "small_data = {\n",
    "    'X_train': data['X_train'][:num_train],\n",
    "    'y_train': data['y_train'][:num_train],\n",
    "    'X_val': data['X_val'],\n",
    "    'y_val': data['y_val'],\n",
    "}"
   ]
  },
  {
   "cell_type": "code",
   "execution_count": 98,
   "metadata": {},
   "outputs": [],
   "source": [
    "weight_scale = 1e-2\n",
    "learning_rate = 1e-2\n",
    "model = FullyConnectedNet([100, 100], weight_scale=weight_scale, dtype=np.float64)\n",
    "solver = Solver(model, small_data, print_every=10, num_epochs=20, batch_size=25, update_rule='sgd', optim_config={\n",
    "    'learning_rate': learning_rate,\n",
    "})"
   ]
  },
  {
   "cell_type": "code",
   "execution_count": 99,
   "metadata": {},
   "outputs": [
    {
     "name": "stdout",
     "output_type": "stream",
     "text": [
      "(Iteration 1 / 40) loss: 2.266089\n",
      "(Epoch 0 / 20) train acc: 0.220000; val_acc: 0.102000\n",
      "(Epoch 1 / 20) train acc: 0.360000; val_acc: 0.119000\n",
      "(Epoch 2 / 20) train acc: 0.640000; val_acc: 0.139000\n",
      "(Epoch 3 / 20) train acc: 0.560000; val_acc: 0.155000\n",
      "(Epoch 4 / 20) train acc: 0.640000; val_acc: 0.155000\n",
      "(Epoch 5 / 20) train acc: 0.700000; val_acc: 0.145000\n",
      "(Iteration 11 / 40) loss: 1.129084\n",
      "(Epoch 6 / 20) train acc: 0.740000; val_acc: 0.149000\n",
      "(Epoch 7 / 20) train acc: 0.720000; val_acc: 0.175000\n",
      "(Epoch 8 / 20) train acc: 0.880000; val_acc: 0.168000\n",
      "(Epoch 9 / 20) train acc: 0.860000; val_acc: 0.166000\n",
      "(Epoch 10 / 20) train acc: 0.880000; val_acc: 0.176000\n",
      "(Iteration 21 / 40) loss: 0.548989\n",
      "(Epoch 11 / 20) train acc: 0.920000; val_acc: 0.180000\n",
      "(Epoch 12 / 20) train acc: 0.920000; val_acc: 0.185000\n",
      "(Epoch 13 / 20) train acc: 0.980000; val_acc: 0.182000\n",
      "(Epoch 14 / 20) train acc: 1.000000; val_acc: 0.186000\n",
      "(Epoch 15 / 20) train acc: 1.000000; val_acc: 0.200000\n",
      "(Iteration 31 / 40) loss: 0.068305\n",
      "(Epoch 16 / 20) train acc: 1.000000; val_acc: 0.191000\n",
      "(Epoch 17 / 20) train acc: 1.000000; val_acc: 0.206000\n",
      "(Epoch 18 / 20) train acc: 0.980000; val_acc: 0.193000\n",
      "(Epoch 19 / 20) train acc: 1.000000; val_acc: 0.207000\n",
      "(Epoch 20 / 20) train acc: 1.000000; val_acc: 0.192000\n"
     ]
    }
   ],
   "source": [
    "solver.train()"
   ]
  },
  {
   "cell_type": "code",
   "execution_count": 100,
   "metadata": {},
   "outputs": [
    {
     "data": {
      "image/png": "[encoded data removed]",
      "text/plain": [
       "<matplotlib.figure.Figure at 0x7f0d54185940>"
      ]
     },
     "metadata": {},
     "output_type": "display_data"
    }
   ],
   "source": [
    "plt.plot(solver.loss_history, 'o')\n",
    "plt.title('Training loss history')\n",
    "plt.xlabel('Iteration')\n",
    "plt.ylabel('Training loss')\n",
    "plt.show()"
   ]
  },
  {
   "cell_type": "code",
   "execution_count": 107,
   "metadata": {},
   "outputs": [],
   "source": [
    "# TODO\n",
    "num_train = 50\n",
    "small_data = {\n",
    "    'X_train': data['X_train'][:num_train],\n",
    "    'y_train': data['y_train'][:num_train],\n",
    "    'X_val': data['X_val'],\n",
    "    'y_val': data['y_val'],\n",
    "}"
   ]
  },
  {
   "cell_type": "code",
   "execution_count": 108,
   "metadata": {},
   "outputs": [],
   "source": [
    "learning_rate = 1e-2"
   ]
  },
  {
   "cell_type": "code",
   "execution_count": 109,
   "metadata": {},
   "outputs": [],
   "source": [
    "weight_scale = 4e-2"
   ]
  },
  {
   "cell_type": "code",
   "execution_count": 110,
   "metadata": {},
   "outputs": [],
   "source": [
    "model = FullyConnectedNet([100, 100, 100, 100, 100, 1000], weight_scale=weight_scale, dtype=np.float64)\n",
    "solver = Solver(model, small_data, print_every=10, num_epochs=20, batch_size=25, update_rule='sgd', optim_config={'learning_rate': learning_rate},)"
   ]
  },
  {
   "cell_type": "code",
   "execution_count": 111,
   "metadata": {},
   "outputs": [
    {
     "name": "stdout",
     "output_type": "stream",
     "text": [
      "(Iteration 1 / 40) loss: 2.484289\n",
      "(Epoch 0 / 20) train acc: 0.100000; val_acc: 0.096000\n",
      "(Epoch 1 / 20) train acc: 0.200000; val_acc: 0.095000\n",
      "(Epoch 2 / 20) train acc: 0.260000; val_acc: 0.116000\n",
      "(Epoch 3 / 20) train acc: 0.360000; val_acc: 0.134000\n",
      "(Epoch 4 / 20) train acc: 0.280000; val_acc: 0.092000\n",
      "(Epoch 5 / 20) train acc: 0.460000; val_acc: 0.123000\n",
      "(Iteration 11 / 40) loss: 2.068410\n",
      "(Epoch 6 / 20) train acc: 0.420000; val_acc: 0.136000\n",
      "(Epoch 7 / 20) train acc: 0.380000; val_acc: 0.126000\n",
      "(Epoch 8 / 20) train acc: 0.380000; val_acc: 0.140000\n",
      "(Epoch 9 / 20) train acc: 0.400000; val_acc: 0.128000\n",
      "(Epoch 10 / 20) train acc: 0.540000; val_acc: 0.125000\n",
      "(Iteration 21 / 40) loss: 1.745247\n",
      "(Epoch 11 / 20) train acc: 0.520000; val_acc: 0.132000\n",
      "(Epoch 12 / 20) train acc: 0.660000; val_acc: 0.149000\n",
      "(Epoch 13 / 20) train acc: 0.680000; val_acc: 0.140000\n",
      "(Epoch 14 / 20) train acc: 0.540000; val_acc: 0.127000\n",
      "(Epoch 15 / 20) train acc: 0.400000; val_acc: 0.144000\n",
      "(Iteration 31 / 40) loss: 1.375661\n",
      "(Epoch 16 / 20) train acc: 0.520000; val_acc: 0.145000\n",
      "(Epoch 17 / 20) train acc: 0.640000; val_acc: 0.139000\n",
      "(Epoch 18 / 20) train acc: 0.760000; val_acc: 0.142000\n",
      "(Epoch 19 / 20) train acc: 0.680000; val_acc: 0.128000\n",
      "(Epoch 20 / 20) train acc: 0.880000; val_acc: 0.141000\n"
     ]
    }
   ],
   "source": [
    "solver.train()"
   ]
  },
  {
   "cell_type": "code",
   "execution_count": 112,
   "metadata": {},
   "outputs": [
    {
     "data": {
      "image/png": "[encoded data removed]",
      "text/plain": [
       "<matplotlib.figure.Figure at 0x7f0d540d37f0>"
      ]
     },
     "metadata": {},
     "output_type": "display_data"
    }
   ],
   "source": [
    "plt.plot(solver.loss_history, 'o')\n",
    "plt.title('Training loss history')\n",
    "plt.xlabel('Iteration')\n",
    "plt.ylabel('Training loss')\n",
    "plt.show()"
   ]
  },
  {
   "cell_type": "markdown",
   "metadata": {},
   "source": [
    "### SGD + Momentum"
   ]
  },
  {
   "cell_type": "code",
   "execution_count": 113,
   "metadata": {},
   "outputs": [],
   "source": [
    "from cs231n.optim import sgd_momentum"
   ]
  },
  {
   "cell_type": "code",
   "execution_count": 114,
   "metadata": {},
   "outputs": [],
   "source": [
    "N, D = 4, 5\n",
    "w = np.linspace(-0.4, 0.6, num=N*D).reshape(N, D)\n",
    "dw = np.linspace(-0.6, 0.4, num=N*D).reshape(N, D)\n",
    "v = np.linspace(0.6, 0.9, num=N*D).reshape(N, D)"
   ]
  },
  {
   "cell_type": "code",
   "execution_count": 115,
   "metadata": {},
   "outputs": [],
   "source": [
    "config = {'learning_rate': 1e-3, 'velocity': v}\n",
    "next_w, _ = sgd_momentum(w, dw, config=config)"
   ]
  },
  {
   "cell_type": "code",
   "execution_count": 116,
   "metadata": {},
   "outputs": [],
   "source": [
    "expected_next_w = np.asarray([\n",
    "  [ 0.1406,      0.20738947,  0.27417895,  0.34096842,  0.40775789],\n",
    "  [ 0.47454737,  0.54133684,  0.60812632,  0.67491579,  0.74170526],\n",
    "  [ 0.80849474,  0.87528421,  0.94207368,  1.00886316,  1.07565263],\n",
    "  [ 1.14244211,  1.20923158,  1.27602105,  1.34281053,  1.4096    ]])\n",
    "expected_velocity = np.asarray([\n",
    "  [ 0.5406,      0.55475789,  0.56891579, 0.58307368,  0.59723158],\n",
    "  [ 0.61138947,  0.62554737,  0.63970526,  0.65386316,  0.66802105],\n",
    "  [ 0.68217895,  0.69633684,  0.71049474,  0.72465263,  0.73881053],\n",
    "  [ 0.75296842,  0.76712632,  0.78128421,  0.79544211,  0.8096    ]])"
   ]
  },
  {
   "cell_type": "code",
   "execution_count": 117,
   "metadata": {},
   "outputs": [
    {
     "name": "stdout",
     "output_type": "stream",
     "text": [
      "next_w error:  8.882347033505819e-09\n",
      "velocity error:  4.269287743278663e-09\n"
     ]
    }
   ],
   "source": [
    "print('next_w error: ', rel_error(next_w, expected_next_w))\n",
    "print('velocity error: ', rel_error(expected_velocity, config['velocity']))"
   ]
  },
  {
   "cell_type": "code",
   "execution_count": 120,
   "metadata": {},
   "outputs": [],
   "source": [
    "# Run the following to train a six-layer network with both SGD and SGD+momentum. You shold see the SGD + momentum converge faster\n",
    "num_train = 4000\n",
    "small_data = {\n",
    "    'X_train': data['X_train'][:num_train],\n",
    "    'y_train': data['y_train'][:num_train],\n",
    "    'X_val': data['X_val'],\n",
    "    'y_val': data['y_val'],\n",
    "    \n",
    "}\n",
    "\n",
    "solvers = {}"
   ]
  },
  {
   "cell_type": "code",
   "execution_count": 122,
   "metadata": {},
   "outputs": [
    {
     "name": "stdout",
     "output_type": "stream",
     "text": [
      "running with sgd\n",
      "(Iteration 1 / 200) loss: 2.800720\n",
      "(Epoch 0 / 5) train acc: 0.123000; val_acc: 0.120000\n",
      "(Iteration 11 / 200) loss: 2.292500\n",
      "(Iteration 21 / 200) loss: 2.170988\n",
      "(Iteration 31 / 200) loss: 2.202749\n",
      "(Epoch 1 / 5) train acc: 0.273000; val_acc: 0.207000\n",
      "(Iteration 41 / 200) loss: 2.029979\n",
      "(Iteration 51 / 200) loss: 1.965616\n",
      "(Iteration 61 / 200) loss: 1.938329\n",
      "(Iteration 71 / 200) loss: 2.090305\n",
      "(Epoch 2 / 5) train acc: 0.310000; val_acc: 0.257000\n",
      "(Iteration 81 / 200) loss: 2.017271\n",
      "(Iteration 91 / 200) loss: 1.821811\n",
      "(Iteration 101 / 200) loss: 1.862985\n",
      "(Iteration 111 / 200) loss: 1.768149\n",
      "(Epoch 3 / 5) train acc: 0.357000; val_acc: 0.284000\n",
      "(Iteration 121 / 200) loss: 1.725976\n",
      "(Iteration 131 / 200) loss: 1.852572\n",
      "(Iteration 141 / 200) loss: 1.615588\n",
      "(Iteration 151 / 200) loss: 1.646488\n",
      "(Epoch 4 / 5) train acc: 0.382000; val_acc: 0.316000\n",
      "(Iteration 161 / 200) loss: 1.763442\n",
      "(Iteration 171 / 200) loss: 1.640321\n",
      "(Iteration 181 / 200) loss: 1.654349\n",
      "(Iteration 191 / 200) loss: 1.694142\n",
      "(Epoch 5 / 5) train acc: 0.458000; val_acc: 0.329000\n",
      "\n",
      "running with sgd_momentum\n",
      "(Iteration 1 / 200) loss: 2.696943\n",
      "(Epoch 0 / 5) train acc: 0.111000; val_acc: 0.127000\n",
      "(Iteration 11 / 200) loss: 2.147489\n",
      "(Iteration 21 / 200) loss: 2.050868\n",
      "(Iteration 31 / 200) loss: 1.855057\n",
      "(Epoch 1 / 5) train acc: 0.345000; val_acc: 0.304000\n",
      "(Iteration 41 / 200) loss: 1.828277\n",
      "(Iteration 51 / 200) loss: 1.837619\n",
      "(Iteration 61 / 200) loss: 1.772630\n",
      "(Iteration 71 / 200) loss: 1.891616\n",
      "(Epoch 2 / 5) train acc: 0.364000; val_acc: 0.323000\n",
      "(Iteration 81 / 200) loss: 1.717054\n",
      "(Iteration 91 / 200) loss: 1.623324\n",
      "(Iteration 101 / 200) loss: 1.843992\n",
      "(Iteration 111 / 200) loss: 1.641818\n",
      "(Epoch 3 / 5) train acc: 0.447000; val_acc: 0.347000\n",
      "(Iteration 121 / 200) loss: 1.501841\n",
      "(Iteration 131 / 200) loss: 1.581256\n",
      "(Iteration 141 / 200) loss: 1.450645\n",
      "(Iteration 151 / 200) loss: 1.551530\n",
      "(Epoch 4 / 5) train acc: 0.497000; val_acc: 0.365000\n",
      "(Iteration 161 / 200) loss: 1.367404\n",
      "(Iteration 171 / 200) loss: 1.268991\n",
      "(Iteration 181 / 200) loss: 1.293137\n",
      "(Iteration 191 / 200) loss: 1.359986\n",
      "(Epoch 5 / 5) train acc: 0.519000; val_acc: 0.347000\n",
      "\n"
     ]
    }
   ],
   "source": [
    "for update_rule in ['sgd', 'sgd_momentum']:\n",
    "    print('running with', update_rule)\n",
    "    model = FullyConnectedNet([100, 100, 100, 100, 100], weight_scale=5e-2)\n",
    "    \n",
    "    solver = Solver(model, small_data, num_epochs=5, batch_size=100,\n",
    "                   update_rule=update_rule,\n",
    "                   optim_config={\n",
    "                       'learning_rate': 1e-2,\n",
    "                   },\n",
    "                   verbose=True)\n",
    "    solvers[update_rule] = solver\n",
    "    solver.train()\n",
    "    print()"
   ]
  },
  {
   "cell_type": "code",
   "execution_count": 126,
   "metadata": {},
   "outputs": [
    {
     "name": "stderr",
     "output_type": "stream",
     "text": [
      "/usr/local/lib/python3.5/dist-packages/matplotlib/cbook/deprecation.py:106: MatplotlibDeprecationWarning: Adding an axes using the same arguments as a previous axes currently reuses the earlier instance.  In a future version, a new instance will always be created and returned.  Meanwhile, this warning can be suppressed, and the future behavior ensured, by passing a unique label to each axes instance.\n",
      "  warnings.warn(message, mplDeprecation, stacklevel=1)\n"
     ]
    },
    {
     "data": {
      "image/png": "[encoded data removed]",
      "text/plain": [
       "<matplotlib.figure.Figure at 0x7f0d54065358>"
      ]
     },
     "metadata": {},
     "output_type": "display_data"
    }
   ],
   "source": [
    "plt.subplot(3, 1, 1)\n",
    "plt.title('Training loss')\n",
    "plt.xlabel('Iteration')\n",
    "\n",
    "plt.subplot(3, 1, 2)\n",
    "plt.title('Training accuracy')\n",
    "plt.xlabel('Epoch')\n",
    "\n",
    "plt.subplot(3, 1, 3)\n",
    "plt.title('Validation accuracy')\n",
    "plt.xlabel('Epoch')\n",
    "\n",
    "for update_rule, solver in list(solvers.items()):\n",
    "    plt.subplot(3, 1, 1)\n",
    "    plt.plot(solver.loss_history, 'o', label=update_rule)\n",
    "    \n",
    "    plt.subplot(3, 1, 2)\n",
    "    plt.plot(solver.train_acc_history, '-o', label=update_rule)\n",
    "    \n",
    "    plt.subplot(3, 1, 3)\n",
    "    plt.plot(solver.val_acc_history, '-o', label=update_rule)\n",
    "    \n",
    "for i in [1, 2, 3]:\n",
    "    plt.subplot(3, 1, i)\n",
    "    plt.legend(loc='upper center', ncol=4)\n",
    "plt.gcf().set_size_inches(15, 15)\n",
    "plt.show()\n",
    "    "
   ]
  },
  {
   "cell_type": "code",
   "execution_count": 124,
   "metadata": {},
   "outputs": [
    {
     "name": "stdout",
     "output_type": "stream",
     "text": [
      "sgd_momentum\n",
      "<cs231n.solver.Solver object at 0x7f0d54080208>\n",
      "sgd\n",
      "<cs231n.solver.Solver object at 0x7f0d5405d438>\n"
     ]
    }
   ],
   "source": [
    "for update_rule, solver in list(solvers.items()):\n",
    "    print (update_rule)\n",
    "    print (solver)"
   ]
  },
  {
   "cell_type": "markdown",
   "metadata": {},
   "source": [
    "### RMSProp and Adam"
   ]
  },
  {
   "cell_type": "code",
   "execution_count": 127,
   "metadata": {},
   "outputs": [],
   "source": [
    "from cs231n.optim import adam"
   ]
  },
  {
   "cell_type": "code",
   "execution_count": 128,
   "metadata": {},
   "outputs": [
    {
     "name": "stdout",
     "output_type": "stream",
     "text": [
      "running with  adam\n",
      "(Iteration 1 / 200) loss: 2.415084\n",
      "(Epoch 0 / 5) train acc: 0.144000; val_acc: 0.114000\n",
      "(Iteration 11 / 200) loss: 2.112398\n",
      "(Iteration 21 / 200) loss: 1.830914\n",
      "(Iteration 31 / 200) loss: 1.821547\n",
      "(Epoch 1 / 5) train acc: 0.380000; val_acc: 0.287000\n",
      "(Iteration 41 / 200) loss: 1.834586\n",
      "(Iteration 51 / 200) loss: 1.634281\n",
      "(Iteration 61 / 200) loss: 1.632450\n",
      "(Iteration 71 / 200) loss: 1.598875\n",
      "(Epoch 2 / 5) train acc: 0.441000; val_acc: 0.339000\n",
      "(Iteration 81 / 200) loss: 1.596098\n",
      "(Iteration 91 / 200) loss: 1.403606\n",
      "(Iteration 101 / 200) loss: 1.578476\n",
      "(Iteration 111 / 200) loss: 1.474058\n",
      "(Epoch 3 / 5) train acc: 0.522000; val_acc: 0.372000\n",
      "(Iteration 121 / 200) loss: 1.345579\n",
      "(Iteration 131 / 200) loss: 1.399974\n",
      "(Iteration 141 / 200) loss: 1.498748\n",
      "(Iteration 151 / 200) loss: 1.177701\n",
      "(Epoch 4 / 5) train acc: 0.564000; val_acc: 0.358000\n",
      "(Iteration 161 / 200) loss: 1.386567\n",
      "(Iteration 171 / 200) loss: 1.188197\n",
      "(Iteration 181 / 200) loss: 1.261810\n",
      "(Iteration 191 / 200) loss: 1.188921\n",
      "(Epoch 5 / 5) train acc: 0.656000; val_acc: 0.375000\n",
      "\n",
      "running with  rmsprop\n",
      "(Iteration 1 / 200) loss: 2.686871\n",
      "(Epoch 0 / 5) train acc: 0.117000; val_acc: 0.113000\n",
      "(Iteration 11 / 200) loss: 2.132974\n",
      "(Iteration 21 / 200) loss: 1.836265\n",
      "(Iteration 31 / 200) loss: 1.790592\n",
      "(Epoch 1 / 5) train acc: 0.343000; val_acc: 0.298000\n",
      "(Iteration 41 / 200) loss: 1.916793\n",
      "(Iteration 51 / 200) loss: 1.686369\n",
      "(Iteration 61 / 200) loss: 1.743736\n",
      "(Iteration 71 / 200) loss: 1.676236\n",
      "(Epoch 2 / 5) train acc: 0.431000; val_acc: 0.338000\n",
      "(Iteration 81 / 200) loss: 1.675318\n",
      "(Iteration 91 / 200) loss: 1.684788\n",
      "(Iteration 101 / 200) loss: 1.780087\n",
      "(Iteration 111 / 200) loss: 1.545474\n",
      "(Epoch 3 / 5) train acc: 0.449000; val_acc: 0.335000\n",
      "(Iteration 121 / 200) loss: 1.494135\n",
      "(Iteration 131 / 200) loss: 1.599417\n",
      "(Iteration 141 / 200) loss: 1.453007\n",
      "(Iteration 151 / 200) loss: 1.429819\n",
      "(Epoch 4 / 5) train acc: 0.527000; val_acc: 0.347000\n",
      "(Iteration 161 / 200) loss: 1.453730\n",
      "(Iteration 171 / 200) loss: 1.451653\n",
      "(Iteration 181 / 200) loss: 1.426961\n",
      "(Iteration 191 / 200) loss: 1.275836\n",
      "(Epoch 5 / 5) train acc: 0.564000; val_acc: 0.353000\n",
      "\n"
     ]
    }
   ],
   "source": [
    "learning_rates = {'rmsprop': 1e-4, 'adam': 1e-3}\n",
    "for update_rule in ['adam', 'rmsprop']:\n",
    "    print('running with ', update_rule)\n",
    "    model = FullyConnectedNet([100, 100, 100, 100, 100], weight_scale=5e-2)\n",
    "    \n",
    "    solver = Solver(model, small_data, num_epochs=5, batch_size = 100, update_rule=update_rule,\n",
    "                   optim_config={\n",
    "                       'learning_rate': learning_rates[update_rule]\n",
    "                   },\n",
    "                   verbose=True)\n",
    "    solvers[update_rule] = solver\n",
    "    solver.train()\n",
    "    print()"
   ]
  },
  {
   "cell_type": "code",
   "execution_count": 131,
   "metadata": {},
   "outputs": [
    {
     "name": "stderr",
     "output_type": "stream",
     "text": [
      "/usr/local/lib/python3.5/dist-packages/matplotlib/cbook/deprecation.py:106: MatplotlibDeprecationWarning: Adding an axes using the same arguments as a previous axes currently reuses the earlier instance.  In a future version, a new instance will always be created and returned.  Meanwhile, this warning can be suppressed, and the future behavior ensured, by passing a unique label to each axes instance.\n",
      "  warnings.warn(message, mplDeprecation, stacklevel=1)\n"
     ]
    },
    {
     "data": {
      "image/png": "[encoded data removed]",
      "text/plain": [
       "<matplotlib.figure.Figure at 0x7f0d541a74e0>"
      ]
     },
     "metadata": {},
     "output_type": "display_data"
    }
   ],
   "source": [
    "plt.subplot(3, 1, 1)\n",
    "plt.title('Training loss')\n",
    "plt.xlabel('Iteration')\n",
    "\n",
    "plt.subplot(3, 1, 2)\n",
    "plt.title('Training accuracy')\n",
    "plt.xlabel('Epoch')\n",
    "\n",
    "plt.subplot(3, 1, 3)\n",
    "plt.title('Validation accuracy')\n",
    "plt.xlabel('Epoch')\n",
    "\n",
    "for update_rule, solver in list(solvers.items()):\n",
    "    plt.subplot(3, 1, 1)\n",
    "    plt.plot(solver.loss_history, 'o', label=update_rule)\n",
    "\n",
    "    plt.subplot(3, 1, 2)\n",
    "    plt.plot(solver.train_acc_history, '-o', label=update_rule)\n",
    "\n",
    "    plt.subplot(3, 1, 3)\n",
    "    plt.plot(solver.val_acc_history, '-o', label=update_rule)\n",
    "\n",
    "for i in [1, 2, 3]:\n",
    "    plt.subplot(3, 1, i)\n",
    "    plt.legend(loc='upper center', ncol=4)\n",
    "plt.gcf().set_size_inches(15, 15)\n",
    "plt.show()"
   ]
  },
  {
   "cell_type": "markdown",
   "metadata": {},
   "source": [
    "### Test you model"
   ]
  },
  {
   "cell_type": "code",
   "execution_count": 134,
   "metadata": {},
   "outputs": [],
   "source": [
    "best_model = FullyConnectedNet([100, 100, 100, 100, 100, 100], weight_scale=1e-5,\n",
    "                             use_batchnorm=True, dropout=0.8)\n",
    "solver = Solver(best_model, data, num_epochs=20,\n",
    "               batch_size=50,\n",
    "               update_rule='adam',\n",
    "               optim_config={'learning_rate': 1e-4},\n",
    "               verbose=False)\n"
   ]
  },
  {
   "cell_type": "code",
   "execution_count": null,
   "metadata": {},
   "outputs": [],
   "source": [
    "solver.train()"
   ]
  },
  {
   "cell_type": "code",
   "execution_count": null,
   "metadata": {},
   "outputs": [],
   "source": []
  },
  {
   "cell_type": "code",
   "execution_count": null,
   "metadata": {},
   "outputs": [],
   "source": []
  },
  {
   "cell_type": "code",
   "execution_count": null,
   "metadata": {},
   "outputs": [],
   "source": []
  },
  {
   "cell_type": "code",
   "execution_count": null,
   "metadata": {},
   "outputs": [],
   "source": []
  },
  {
   "cell_type": "code",
   "execution_count": null,
   "metadata": {},
   "outputs": [],
   "source": []
  },
  {
   "cell_type": "code",
   "execution_count": null,
   "metadata": {},
   "outputs": [],
   "source": []
  },
  {
   "cell_type": "code",
   "execution_count": null,
   "metadata": {},
   "outputs": [],
   "source": []
  },
  {
   "cell_type": "code",
   "execution_count": null,
   "metadata": {},
   "outputs": [],
   "source": []
  },
  {
   "cell_type": "code",
   "execution_count": null,
   "metadata": {},
   "outputs": [],
   "source": []
  },
  {
   "cell_type": "code",
   "execution_count": null,
   "metadata": {},
   "outputs": [],
   "source": []
  },
  {
   "cell_type": "code",
   "execution_count": null,
   "metadata": {},
   "outputs": [],
   "source": []
  },
  {
   "cell_type": "code",
   "execution_count": null,
   "metadata": {},
   "outputs": [],
   "source": []
  },
  {
   "cell_type": "markdown",
   "metadata": {},
   "source": [
    "## layer.py"
   ]
  },
  {
   "cell_type": "code",
   "execution_count": 16,
   "metadata": {},
   "outputs": [],
   "source": [
    "from builtins import range\n",
    "import numpy as np"
   ]
  },
  {
   "cell_type": "code",
   "execution_count": 17,
   "metadata": {},
   "outputs": [],
   "source": [
    "def affine_forward(x, w, b):\n",
    "    \"\"\"\n",
    "    Inputs:\n",
    "        - x: A numpy array containing input data, of shape (X, d_1, ..., d_k)\n",
    "        - w: A numpy array of weights, of shape (D, M)\n",
    "        - b: A numpy array of biases, of shape (M, )\n",
    "    Returns a tuple of:\n",
    "        - out: output, of shape (N, M)\n",
    "        - cache: (x, w, b)\n",
    "    \"\"\"\n",
    "    out = None\n",
    "    N = x.shape[0]\n",
    "    out = x.reshape[N, -1].dot(w) + b\n",
    "    \n",
    "    cache = (x, w, b)\n",
    "    return out, cache"
   ]
  },
  {
   "cell_type": "code",
   "execution_count": 18,
   "metadata": {},
   "outputs": [],
   "source": [
    "def affine_backward(dout, cache):\n",
    "    \"\"\"\n",
    "    Inputs:\n",
    "        - dout: Upstream derivative, of shape (N, M)\n",
    "        - cache: Tuple of:\n",
    "            - x: Input data, of shape (N, d_1, ... d_k)\n",
    "            - w: Weights, of shape (D, M)\n",
    "            \n",
    "    Returns a tuple of:\n",
    "        - dx: Gradient with respect to x, of shape (N, d1, ..., d_k)\n",
    "        - dw: Gradient with respect to w, of shape (D, M)\n",
    "        - db: Gradient with respect to b, of shape (M, )\n",
    "    \n",
    "    \"\"\"\n",
    "    x, w, b = cache\n",
    "    dx, dw, db = None, None, None\n",
    "    \n",
    "    N = x.shape[0]\n",
    "    dx = dout.dot(w.T).reshape(x.shape)\n",
    "    dw = x.reshape(N, -1).T.dot(dout)\n",
    "    db = np.sum(dout, axis=0)\n",
    "    \n",
    "    return dx, dw, db"
   ]
  },
  {
   "cell_type": "code",
   "execution_count": 19,
   "metadata": {},
   "outputs": [],
   "source": [
    "def relu_forward(x):\n",
    "    \"\"\"\n",
    "    Input:\n",
    "        - x: Inputs, of any shape\n",
    "    \n",
    "    Returns a tuple of:\n",
    "        - out: Output, of the same shape as x\n",
    "        - cache: x\n",
    "    \"\"\"\n",
    "    out = None\n",
    "    out = np.maximum(0, x)\n",
    "    \n",
    "    cache = x\n",
    "    return out, cache\n",
    "    "
   ]
  },
  {
   "cell_type": "code",
   "execution_count": 22,
   "metadata": {},
   "outputs": [],
   "source": [
    "def relu_backward(dout, cache):\n",
    "    dx, x = None , cache\n",
    "    dx = dout\n",
    "    dx[x<=0] = 0\n",
    "    return dx"
   ]
  },
  {
   "cell_type": "markdown",
   "metadata": {},
   "source": [
    "## fc_net.py"
   ]
  },
  {
   "cell_type": "code",
   "execution_count": 29,
   "metadata": {},
   "outputs": [],
   "source": [
    "from builtins import range\n",
    "from builtins import object\n",
    "import numpy as np\n",
    "\n",
    "from cs231n.layers import *\n",
    "from cs231n.layer_utils import *"
   ]
  },
  {
   "cell_type": "code",
   "execution_count": null,
   "metadata": {},
   "outputs": [],
   "source": [
    "class TwoLayerNet(object):\n",
    "    \"\"\"\n",
    "    The architecure should be affine - relu - affine - softmax\n",
    "    \n",
    "    Note that this class does not implement gradient descent; instead, it will interact with a separate solver object that is responsible for running optimization\n",
    "    \n",
    "    \"\"\"\n",
    "    \n",
    "    def __init__(self, input_dim=3*32*32, hidden_dim=100, num_classes=10, weight_scale=1e-3, reg=0.0):\n",
    "        \"\"\"\n",
    "        Initialize a new network\n",
    "        \n",
    "        Inputs:\n",
    "            - input_dim: An integer giving the size of the input\n",
    "            - hidden_dim: An integer giving the size of the hidden layer\n",
    "            - num_classes: An integer giving the number of classes to classify\n",
    "            - dropout: Scalar between 0 and 1 giving dropout strength\n",
    "            - weight_scale: Scalar giving the standard deviation for random initialization of the weights.\n",
    "            - reg: Scalar giving L2 regularization strength\n",
    "        \"\"\"\n",
    "        self.params = {}\n",
    "        self.reg = reg\n",
    "        \n",
    "        # Initializa the weights and biases of the two-layer net. Weights\n",
    "        self.params['W1'] = np.random.normal(0, weight_scale, [input_dim, hidden_dim])\n",
    "        self.params['b1'] = np.zeros([hidden_dim])\n",
    "        self.params['W2'] = np.random.normal(0, weight_scale, [hidden_dim, num_classes])\n",
    "        self.params['b2'] = np.zeros([num_classes])\n",
    "\n",
    "    def loss(self, X, y=None):\n",
    "        \"\"\"\n",
    "        Compute loss and gradient for a minibatch of data\n",
    "        \n",
    "        Inputs:\n",
    "            - X: Array of input data of shape (N, d_1, .., d_k)\n",
    "            - y: Array of labels, of shape (N,). y[i] gives the label for X[i]\n",
    "            \n",
    "        Returns:\n",
    "        \n",
    "            If y is None, then run a test-time forward pass of the model and return\n",
    "            - scores: Array of shape (N, C) giving classification scores, where scores[i, c] is the classification score for X[i] and class c\n",
    "            \n",
    "            If y is not None, then run a training-time forward and backward pass and return a tuple of:\n",
    "            - loss: Scalar value giving the loss\n",
    "            - grads: Dictionary with the same keys as self.params, mapping parameter names to gradients of the loss with respect to those parameters.\n",
    "            \n",
    "        \"\"\"\n",
    "        scores = None\n",
    "        "
   ]
  },
  {
   "cell_type": "code",
   "execution_count": null,
   "metadata": {},
   "outputs": [],
   "source": []
  },
  {
   "cell_type": "code",
   "execution_count": null,
   "metadata": {},
   "outputs": [],
   "source": []
  },
  {
   "cell_type": "code",
   "execution_count": null,
   "metadata": {},
   "outputs": [],
   "source": []
  },
  {
   "cell_type": "code",
   "execution_count": null,
   "metadata": {},
   "outputs": [],
   "source": []
  },
  {
   "cell_type": "code",
   "execution_count": null,
   "metadata": {},
   "outputs": [],
   "source": []
  },
  {
   "cell_type": "code",
   "execution_count": null,
   "metadata": {},
   "outputs": [],
   "source": []
  },
  {
   "cell_type": "code",
   "execution_count": null,
   "metadata": {},
   "outputs": [],
   "source": []
  },
  {
   "cell_type": "code",
   "execution_count": null,
   "metadata": {},
   "outputs": [],
   "source": []
  }
 ],
 "metadata": {
  "kernelspec": {
   "display_name": "Python 3",
   "language": "python",
   "name": "python3"
  },
  "language_info": {
   "codemirror_mode": {
    "name": "ipython",
    "version": 3
   },
   "file_extension": ".py",
   "mimetype": "text/x-python",
   "name": "python",
   "nbconvert_exporter": "python",
   "pygments_lexer": "ipython3",
   "version": "3.5.2"
  }
 },
 "nbformat": 4,
 "nbformat_minor": 2
}
